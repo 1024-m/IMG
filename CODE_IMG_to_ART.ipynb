{
  "nbformat": 4,
  "nbformat_minor": 0,
  "metadata": {
    "colab": {
      "provenance": [],
      "gpuType": "T4"
    },
    "kernelspec": {
      "name": "python3",
      "display_name": "Python 3"
    },
    "language_info": {
      "name": "python"
    },
    "accelerator": "GPU"
  },
  "cells": [
    {
      "cell_type": "code",
      "source": [
        "!pip install pygame scipy"
      ],
      "metadata": {
        "colab": {
          "base_uri": "https://localhost:8080/"
        },
        "id": "g8WuaWBQ_ed5",
        "outputId": "3bbf4423-e064-4b37-bf49-fcaf221ada19"
      },
      "execution_count": 1,
      "outputs": [
        {
          "output_type": "stream",
          "name": "stdout",
          "text": [
            "Requirement already satisfied: pygame in /usr/local/lib/python3.10/dist-packages (2.5.2)\n",
            "Requirement already satisfied: scipy in /usr/local/lib/python3.10/dist-packages (1.11.4)\n",
            "Requirement already satisfied: numpy<1.28.0,>=1.21.6 in /usr/local/lib/python3.10/dist-packages (from scipy) (1.23.5)\n"
          ]
        }
      ]
    },
    {
      "cell_type": "code",
      "execution_count": null,
      "metadata": {
        "colab": {
          "base_uri": "https://localhost:8080/"
        },
        "id": "qHZ0Y2PI_FoK",
        "outputId": "7f773825-e6f2-4b97-bc68-ad59ca115e4f"
      },
      "outputs": [
        {
          "output_type": "stream",
          "name": "stdout",
          "text": [
            "pygame 2.5.2 (SDL 2.28.2, Python 3.10.12)\n",
            "Hello from the pygame community. https://www.pygame.org/contribute.html\n"
          ]
        }
      ],
      "source": [
        "import os\n",
        "import numpy as np\n",
        "import pygame\n",
        "import pygame.gfxdraw\n",
        "import matplotlib.pyplot as plt\n",
        "from scipy.spatial import Delaunay\n",
        "from scipy.ndimage import gaussian_filter\n",
        "from collections import defaultdict\n",
        "inp = pygame.surfarray.pixels3d(pygame.image.load(\"/content/IMG_0372 - Copy.PNG\"))\n",
        "perceptual_weight = np.array([0.2126, 0.7152, 0.0722])\n",
        "grayscale = (inp * perceptual_weight).sum(axis=-1)\n",
        "plt.imshow(grayscale.T);\n",
        "x = gaussian_filter(grayscale, 2, mode=\"reflect\")\n",
        "x2 = gaussian_filter(grayscale, 30, mode=\"reflect\")\n",
        "diff = (x - x2)\n",
        "diff[diff < 0] *= 0.1\n",
        "diff = np.sqrt(np.abs(diff) / diff.max())\n",
        "plt.imshow(diff.T)\n",
        "def sample(ref, n=1000000):\n",
        "    np.random.seed(0)\n",
        "    w, h = x.shape\n",
        "    xs = np.random.randint(0, w, size=n)\n",
        "    ys = np.random.randint(0, h, size=n)\n",
        "    value = ref[xs, ys]\n",
        "    accept = np.random.random(size=n) < value\n",
        "    points = np.array([xs[accept], ys[accept]])\n",
        "    return points.T, value[accept]\n",
        "samples, v = sample(diff)\n",
        "plt.scatter(samples[:, 0], -samples[:, 1], c=v, s=0.2, edgecolors=\"none\", cmap=\"viridis\")\n",
        "def get_colour_of_tri(tri, image):\n",
        "    colours = defaultdict(lambda: [])\n",
        "    w, h, _ = image.shape\n",
        "    for i in range(0, w):\n",
        "        for j in range(0, h):\n",
        "            index = tri.find_simplex((i, j))\n",
        "            colours[int(index)].append(inp[i, j, :])\n",
        "    for index, array in colours.items():\n",
        "        colours[index] = np.array(array).mean(axis=0)\n",
        "    return colours\n",
        "def draw(tri, colours, screen, upscale):\n",
        "    s = screen.copy()\n",
        "    for key, c in colours.items():\n",
        "        t = tri.points[tri.simplices[key]]\n",
        "        pygame.gfxdraw.filled_polygon(s, t * upscale, c)\n",
        "        pygame.gfxdraw.polygon(s, t * upscale, c)\n",
        "    return s\n",
        "w, h, _ = inp.shape\n",
        "upscale = 2\n",
        "screen = pygame.Surface((w * upscale, h * upscale))\n",
        "screen.fill(inp.mean(axis=(0, 1)))\n",
        "corners = np.array([(0, 0), (0, h - 1), (w - 1, 0), (w - 1, h - 1)])\n",
        "points = np.concatenate((corners, samples))\n",
        "outdir = \"lowpoly/output/\"\n",
        "os.makedirs(outdir, exist_ok=True)\n",
        "for i in range(0, 100):\n",
        "    n = 5 + i + 2 * int(i**2)\n",
        "    tri = Delaunay(points[:n, :])\n",
        "    colours = get_colour_of_tri(tri, inp)\n",
        "    s = draw(tri, colours, screen, upscale)\n",
        "    s = pygame.transform.smoothscale(s, (w, h))\n",
        "    pygame.image.save(s, f\"lowpoly/output/{i:04d}.png\")"
      ]
    },
    {
      "cell_type": "code",
      "source": [
        "!pip install imageio\n",
        "import imageio\n",
        "import os\n",
        "png_dir = '/content/lowpoly/output/'\n",
        "gif_filename = '/content/lowpoly_0372_animation.gif'\n",
        "images = []\n",
        "for file_name in sorted(os.listdir(png_dir)):\n",
        "    if file_name.endswith('.png'):\n",
        "        file_path = os.path.join(png_dir, file_name)\n",
        "        images.append(imageio.imread(file_path))\n",
        "imageio.mimsave(gif_filename, images, duration=0.1)  # Adjust 'duration' as needed for frame rate"
      ],
      "metadata": {
        "id": "eW0sjSgrBcOp"
      },
      "execution_count": null,
      "outputs": []
    }
  ]
}
