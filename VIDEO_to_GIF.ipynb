{
  "nbformat": 4,
  "nbformat_minor": 0,
  "metadata": {
    "colab": {
      "provenance": []
    },
    "kernelspec": {
      "name": "python3",
      "display_name": "Python 3"
    },
    "language_info": {
      "name": "python"
    }
  },
  "cells": [
    {
      "cell_type": "code",
      "source": [
        "!pip install opencv-python Pillow"
      ],
      "metadata": {
        "colab": {
          "base_uri": "https://localhost:8080/"
        },
        "id": "SpTuRHkQo6JW",
        "outputId": "8c6a62a4-792d-4a9f-e80c-ef1c71617634"
      },
      "execution_count": 1,
      "outputs": [
        {
          "output_type": "stream",
          "name": "stdout",
          "text": [
            "Requirement already satisfied: opencv-python in /usr/local/lib/python3.10/dist-packages (4.8.0.76)\n",
            "Requirement already satisfied: Pillow in /usr/local/lib/python3.10/dist-packages (9.4.0)\n",
            "Requirement already satisfied: numpy>=1.21.2 in /usr/local/lib/python3.10/dist-packages (from opencv-python) (1.23.5)\n"
          ]
        }
      ]
    },
    {
      "cell_type": "code",
      "source": [
        "import cv2\n",
        "from PIL import Image\n",
        "import numpy as np\n",
        "from IPython.display import display"
      ],
      "metadata": {
        "id": "wlZj5kqXo6In"
      },
      "execution_count": 2,
      "outputs": []
    },
    {
      "cell_type": "code",
      "source": [
        "def pixelate_frame(frame, pixel_size):\n",
        "    image = Image.fromarray(frame)\n",
        "    image = image.resize((image.size[0] // pixel_size, image.size[1] // pixel_size),Image.NEAREST)\n",
        "    image = image.resize((image.size[0] * pixel_size, image.size[1] * pixel_size),Image.NEAREST)\n",
        "    return np.array(image)"
      ],
      "metadata": {
        "id": "iE5oaM8VpKKT"
      },
      "execution_count": 3,
      "outputs": []
    },
    {
      "cell_type": "code",
      "source": [
        "def video_to_pixelated_gif(input_video_path, output_gif_path, pixel_size, max_frames=100, fps=10):\n",
        "    cap = cv2.VideoCapture(input_video_path)\n",
        "    frames = []\n",
        "    try:\n",
        "        while True:\n",
        "            ret, frame = cap.read()\n",
        "            if not ret or len(frames) >= max_frames:\n",
        "                break\n",
        "            frame = pixelate_frame(frame, pixel_size)\n",
        "            frame = cv2.cvtColor(frame, cv2.COLOR_BGR2RGB)\n",
        "            frames.append(frame)\n",
        "    finally:\n",
        "        cap.release()\n",
        "    frames = [Image.fromarray(frame) for frame in frames]\n",
        "    frames[0].save(output_gif_path, save_all=True, append_images=frames[1:], optimize=False, duration=1000/fps, loop=0) # loop = 0 makes in infinitely loop"
      ],
      "metadata": {
        "id": "JDtJqichpG41"
      },
      "execution_count": 4,
      "outputs": []
    },
    {
      "cell_type": "code",
      "source": [
        "input_video_path = '/content/WhatsApp Video 2024-02-02 at 6.51.13 AM.mp4' # Update this path\n",
        "output_gif_path = '/content/WhatsApp Video 2024-02-02 at 6.51.13 AM.gif' # Update this path as needed\n",
        "pixel_size = 3"
      ],
      "metadata": {
        "id": "C40Mih5No-YR"
      },
      "execution_count": 5,
      "outputs": []
    },
    {
      "cell_type": "code",
      "source": [
        "video_to_pixelated_gif(input_video_path, output_gif_path, pixel_size)"
      ],
      "metadata": {
        "id": "ndtWRRhmo_dS"
      },
      "execution_count": 6,
      "outputs": []
    }
  ]
}